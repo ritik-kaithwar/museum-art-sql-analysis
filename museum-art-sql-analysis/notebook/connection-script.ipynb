{
 "cells": [
  {
   "cell_type": "code",
   "execution_count": null,
   "id": "76144670",
   "metadata": {},
   "outputs": [],
   "source": [
    "import pandas as pd \n",
    "from sqlalchemy import create_engine "
   ]
  },
  {
   "cell_type": "code",
   "execution_count": null,
   "id": "924fa599",
   "metadata": {},
   "outputs": [],
   "source": [
    "# For PostgreSQL\n",
    "conn_string='postgresql://[username]:[Password]@[host]:[port]/[database_name]'\n",
    "db=create_engine(conn_string)\n",
    "conn=db.connect()\n",
    "files = ['artist', 'canvas_size', 'image_link', 'museum_hours', 'museum', 'product_size', 'subject', 'work']\n",
    "for file in files:\n",
    " df=pd.read_csv(f'C:/Users/hp/Downloads/sql-mueseum-data-analysis/{file}.csv')\n",
    " df.to_sql(file,con=conn,if_exists='replace',index=False)"
   ]
  },
  {
   "cell_type": "code",
   "execution_count": null,
   "id": "cc01b86f",
   "metadata": {},
   "outputs": [],
   "source": [
    "# For MySQL Workbench\n",
    "conn_string2='mysql+mysqlconnector://[username]:[Password]@[host]:[port]/[db_name]'\n",
    "db2=create_engine(conn_string2)\n",
    "conn2=db2.connect()\n",
    "files = ['artist', 'canvas_size', 'image_link', 'museum_hours', 'museum', 'product_size', 'subject', 'work']\n",
    "for file in files:\n",
    " df=pd.read_csv(f'C:/Users/hp/Downloads/sql-mueseum-data-analysis/{file}.csv')\n",
    " df.to_sql(file,con=conn2,if_exists='replace',index=False)"
   ]
  }
 ],
 "metadata": {
  "kernelspec": {
   "display_name": "Python 3",
   "language": "python",
   "name": "python3"
  },
  "language_info": {
   "codemirror_mode": {
    "name": "ipython",
    "version": 3
   },
   "file_extension": ".py",
   "mimetype": "text/x-python",
   "name": "python",
   "nbconvert_exporter": "python",
   "pygments_lexer": "ipython3",
   "version": "3.13.5"
  }
 },
 "nbformat": 4,
 "nbformat_minor": 5
}
